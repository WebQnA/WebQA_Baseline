{
 "cells": [
  {
   "cell_type": "markdown",
   "source": [
    "# A List of jobs in this notebook\n",
    "\n",
    "<br>\n",
    "\n",
    "Prepare question encodings Qimg x 512, Qtxt x 512\n",
    "\n",
    "Prepare snippet encodings 540K x 512\n",
    "\n",
    "Prepare image encodings 390K x 512\n",
    "\n",
    "<br>\n",
    "\n",
    "Matrix multiplications: Qimg x 540K, Qimg x 390K, Qtxt x 540K, Qtxt x 390K\n",
    "Select and rank topk: Qimgx540K_top2000_i, Qimgx390K_top2000_i, Qtxtx540K_top2000_i, Qtxtx390K_top2000_i\n",
    "\n",
    "<br>\n",
    "\n",
    "Some plots showing that question-img similarities are systematically lower than question-snippet similarities\n",
    "\n",
    "<br>\n",
    "\n",
    "Compute Recall curve (recall@[2, 10, 20, 50, 100, ... 2000]) for zero-shot full-scale CLIP dense retrieval.\n",
    "\n",
    "Compute retrieval F1 for CLIP's top2\n",
    "\n",
    "Write to eval.ai submission files for CLIP's top2\n",
    "\n",
    "<br>\n",
    "\n",
    "Write to pred_dataset files for 1. having VLP filter rerank CLIP's top20, 2. having VLP QA run on CLIP's top2\n",
    "\n",
    "<br>\n",
    "\n",
    "After getting VLP's reranking of CLIP's top20, 1. compute retrieval F1 for CLIP(20)-->VLP(2), 2. write to pred_dataset files for QA"
   ],
   "metadata": {}
  },
  {
   "cell_type": "code",
   "execution_count": 1,
   "source": [
    "from tqdm import tqdm\n",
    "import json, random, time, os, base64, copy\n",
    "import clip, pickle\n",
    "import numpy as np\n",
    "from pprint import pprint\n",
    "from io import BytesIO\n",
    "from collections import Counter, defaultdict\n",
    "import matplotlib.pyplot as plt\n",
    "%matplotlib inline\n",
    "np.set_printoptions(precision=4) \n",
    "from PIL import Image\n",
    "from PIL import ImageFile\n",
    "ImageFile.LOAD_TRUNCATED_IMAGES = True\n",
    "import torch"
   ],
   "outputs": [],
   "metadata": {}
  },
  {
   "cell_type": "code",
   "execution_count": 8,
   "source": [
    "data_dir = \"/home/yingshac/CYS/WebQnA/WebQnA_data_new/\"\n",
    "large_matrices_dir = \"/data/yingshac/WebQA/large_matrices/CLIP_retrieval\""
   ],
   "outputs": [],
   "metadata": {}
  },
  {
   "cell_type": "code",
   "execution_count": 3,
   "source": [
    "device = \"cuda\" if torch.cuda.is_available() else \"cpu\"\n",
    "model, preprocess = clip.load(\"ViT-B/16\", device=device)"
   ],
   "outputs": [],
   "metadata": {}
  },
  {
   "cell_type": "code",
   "execution_count": 3,
   "source": [
    "clip.available_models()"
   ],
   "outputs": [
    {
     "output_type": "execute_result",
     "data": {
      "text/plain": [
       "['RN50', 'RN101', 'RN50x4', 'RN50x16', 'ViT-B/32', 'ViT-B/16']"
      ]
     },
     "metadata": {},
     "execution_count": 3
    }
   ],
   "metadata": {}
  },
  {
   "cell_type": "code",
   "execution_count": 3,
   "source": [
    "#dataset = json.load(open(\"/home/yingshac/CYS/WebQnA/WebQnA_data_new/WebQA_train_val.json\", \"r\"))\n",
    "dataset = json.load(open(\"/home/yingshac/CYS/WebQnA/WebQnA_data_new/WebQA_0904_concat_newimgid_newguid.json\", \"r\"))\n",
    "print(Counter([dataset[k]['split'] for k in dataset]))\n",
    "print(len(set([dataset[k]['Guid'] for k in dataset])))\n",
    "print(Counter([dataset[k]['Qcate'] for k in dataset]))\n"
   ],
   "outputs": [
    {
     "output_type": "stream",
     "name": "stdout",
     "text": [
      "Counter({'train': 36766, 'test': 7540, 'val': 4966})\n",
      "49272\n",
      "Counter({'text': 24343, 'YesNo': 8255, 'Others': 6470, 'choose': 5201, 'number': 2318, 'color': 2058, 'shape': 627})\n"
     ]
    }
   ],
   "metadata": {}
  },
  {
   "cell_type": "code",
   "execution_count": 4,
   "source": [
    "# Read val_imgguid2qid, val_txtguid2qid\n",
    "val_imgguid2qid = pickle.load(open(os.path.join(data_dir, \"CLIP_retrieval_experiments/val_imgguid2qid.pkl\"), \"rb\"))\n",
    "val_txtguid2qid = pickle.load(open(os.path.join(data_dir, \"CLIP_retrieval_experiments/val_txtguid2qid.pkl\"), \"rb\"))\n",
    "\n",
    "val_txtqid2guid = {i:guid for guid, i in val_txtguid2qid.items()}\n",
    "val_imgqid2guid = {i:guid for guid, i in val_imgguid2qid.items()}\n",
    "\n",
    "print(len(val_imgqid2guid), len(val_txtqid2guid), val_imgqid2guid[999], val_txtqid2guid[888])"
   ],
   "outputs": [
    {
     "output_type": "stream",
     "name": "stdout",
     "text": [
      "2511 2455 d5c268120dba11ecb1e81171463288e9 d5d378000dba11ecb1e81171463288e9\n"
     ]
    }
   ],
   "metadata": {}
  },
  {
   "cell_type": "code",
   "execution_count": 15,
   "source": [
    "### Generate question encodings for val\n",
    "### Generate Qimg x 512 matrix\n",
    "rows = []\n",
    "bs = 512\n",
    "batched_ids = []\n",
    "num_bs = len(val_imgqid2guid)//bs\n",
    "for j in tqdm(range(num_bs)):\n",
    "    batched_ids = list(range(j*bs, j*bs+bs))\n",
    "    text_input = clip.tokenize([dataset[val_imgqid2guid[i]]['Q'] for i in batched_ids], truncate=True).to(device)\n",
    "    with torch.no_grad():\n",
    "        text_features = model.encode_text(text_input)\n",
    "    rows.append(text_features)\n",
    "if not len(val_imgqid2guid) % bs == 0:\n",
    "    batched_ids = list(range(num_bs*bs, len(val_imgqid2guid)))\n",
    "    text_input = clip.tokenize([dataset[val_imgqid2guid[i]]['Q'] for i in batched_ids], truncate=True).to(device)\n",
    "    with torch.no_grad():\n",
    "        text_features = model.encode_text(text_input)\n",
    "    rows.append(text_features)\n",
    "\n",
    "Qimgx512 = torch.cat(rows)\n",
    "print(Qimgx512.size())\n",
    "torch.save(Qimgx512, os.path.join(data_dir, \"CLIP_retrieval_experiments/Qimgx512_val.pt\"))\n",
    "\n",
    "### Generate Qtxt x 512 matrix\n",
    "rows = []\n",
    "bs = 512\n",
    "batched_ids = []\n",
    "num_bs = len(val_txtqid2guid)//bs\n",
    "for j in tqdm(range(num_bs)):\n",
    "    batched_ids = list(range(j*bs, j*bs+bs))\n",
    "    text_input = clip.tokenize([dataset[val_txtqid2guid[i]]['Q'] for i in batched_ids], truncate=True).to(device)\n",
    "    with torch.no_grad():\n",
    "        text_features = model.encode_text(text_input)\n",
    "    rows.append(text_features)\n",
    "if not len(val_txtqid2guid) % bs == 0:\n",
    "    batched_ids = list(range(num_bs*bs, len(val_txtqid2guid)))\n",
    "    text_input = clip.tokenize([dataset[val_txtqid2guid[i]]['Q'] for i in batched_ids], truncate=True).to(device)\n",
    "    with torch.no_grad():\n",
    "        text_features = model.encode_text(text_input)\n",
    "    rows.append(text_features)\n",
    "\n",
    "Qtxtx512 = torch.cat(rows)\n",
    "print(Qtxtx512.size())\n",
    "torch.save(Qtxtx512, os.path.join(data_dir, \"CLIP_retrieval_experiments/Qtxtx512_val.pt\"))"
   ],
   "outputs": [
    {
     "output_type": "stream",
     "name": "stderr",
     "text": [
      "100%|██████████| 4/4 [00:01<00:00,  3.20it/s]\n"
     ]
    },
    {
     "output_type": "stream",
     "name": "stdout",
     "text": [
      "torch.Size([2511, 512])\n"
     ]
    }
   ],
   "metadata": {}
  },
  {
   "cell_type": "code",
   "execution_count": 4,
   "source": [
    "# Read test_imgguid2qid, test_txtguid2qid\n",
    "test_imgguid2qid = pickle.load(open(os.path.join(data_dir, \"CLIP_retrieval_experiments/test_imgguid2qid.pkl\"), \"rb\"))\n",
    "test_txtguid2qid = pickle.load(open(os.path.join(data_dir, \"CLIP_retrieval_experiments/test_txtguid2qid.pkl\"), \"rb\"))\n",
    "\n",
    "test_txtqid2guid = {i:guid for guid, i in test_txtguid2qid.items()}\n",
    "test_imgqid2guid = {i:guid for guid, i in test_imgguid2qid.items()}\n",
    "\n",
    "print(len(test_imgqid2guid), len(test_txtqid2guid), test_imgqid2guid[999], test_txtqid2guid[888])"
   ],
   "outputs": [
    {
     "output_type": "stream",
     "name": "stdout",
     "text": [
      "3464 4076 d5bf18600dba11ecb1e81171463288e9 d5de3fec0dba11ecb1e81171463288e9\n"
     ]
    }
   ],
   "metadata": {}
  },
  {
   "cell_type": "code",
   "execution_count": 6,
   "source": [
    "### Generate question encodings for test\n",
    "### Generate Qimg x 512 matrix\n",
    "rows = []\n",
    "bs = 512\n",
    "batched_ids = []\n",
    "num_bs = len(test_imgqid2guid)//bs\n",
    "for j in tqdm(range(num_bs)):\n",
    "    batched_ids = list(range(j*bs, j*bs+bs))\n",
    "    text_input = clip.tokenize([dataset[test_imgqid2guid[i]]['Q'] for i in batched_ids], truncate=True).to(device)\n",
    "    with torch.no_grad():\n",
    "        text_features = model.encode_text(text_input)\n",
    "    rows.append(text_features)\n",
    "if not len(test_imgqid2guid) % bs == 0:\n",
    "    batched_ids = list(range(num_bs*bs, len(test_imgqid2guid)))\n",
    "    text_input = clip.tokenize([dataset[test_imgqid2guid[i]]['Q'] for i in batched_ids], truncate=True).to(device)\n",
    "    with torch.no_grad():\n",
    "        text_features = model.encode_text(text_input)\n",
    "    rows.append(text_features)\n",
    "\n",
    "Qimgx512 = torch.cat(rows)\n",
    "print(Qimgx512.size())\n",
    "torch.save(Qimgx512, os.path.join(data_dir, \"CLIP_retrieval_experiments/Qimgx512_test.pt\"))\n",
    "\n",
    "### Generate Qtxt x 512 matrix\n",
    "rows = []\n",
    "bs = 512\n",
    "batched_ids = []\n",
    "num_bs = len(test_txtqid2guid)//bs\n",
    "for j in tqdm(range(num_bs)):\n",
    "    batched_ids = list(range(j*bs, j*bs+bs))\n",
    "    text_input = clip.tokenize([dataset[test_txtqid2guid[i]]['Q'] for i in batched_ids], truncate=True).to(device)\n",
    "    with torch.no_grad():\n",
    "        text_features = model.encode_text(text_input)\n",
    "    rows.append(text_features)\n",
    "if not len(test_txtqid2guid) % bs == 0:\n",
    "    batched_ids = list(range(num_bs*bs, len(test_txtqid2guid)))\n",
    "    text_input = clip.tokenize([dataset[test_txtqid2guid[i]]['Q'] for i in batched_ids], truncate=True).to(device)\n",
    "    with torch.no_grad():\n",
    "        text_features = model.encode_text(text_input)\n",
    "    rows.append(text_features)\n",
    "\n",
    "Qtxtx512 = torch.cat(rows)\n",
    "print(Qtxtx512.size())\n",
    "torch.save(Qtxtx512, os.path.join(large_matrices_dir, \"Qtxtx512_test.pt\"))"
   ],
   "outputs": [
    {
     "output_type": "stream",
     "name": "stderr",
     "text": [
      "100%|██████████| 6/6 [00:03<00:00,  1.89it/s]\n"
     ]
    },
    {
     "output_type": "stream",
     "name": "stdout",
     "text": [
      "torch.Size([3464, 512])\n"
     ]
    },
    {
     "output_type": "stream",
     "name": "stderr",
     "text": [
      "100%|██████████| 7/7 [00:02<00:00,  2.55it/s]\n"
     ]
    },
    {
     "output_type": "stream",
     "name": "stdout",
     "text": [
      "torch.Size([4076, 512])\n"
     ]
    }
   ],
   "metadata": {}
  },
  {
   "cell_type": "code",
   "execution_count": 5,
   "source": [
    "# Read fact2uniid\n",
    "fact2uniid = pickle.load(open(os.path.join(data_dir, \"CLIP_retrieval_experiments/fact2uniid.pkl\"), \"rb\"))\n",
    "uniid2fact = {i:fact for fact, i in fact2uniid.items()}\n",
    "print(len(uniid2fact), uniid2fact[199999])"
   ],
   "outputs": [
    {
     "output_type": "stream",
     "name": "stdout",
     "text": [
      "544489 Fauns are a peculiar, chimeric race: half goat, half human. With horns, hairy legs, hooves, and a twitchy tail, they might not sound like the loveliest characters, but they have their own undeniable charm.\n"
     ]
    }
   ],
   "metadata": {}
  },
  {
   "cell_type": "code",
   "execution_count": 12,
   "source": [
    "### Generate 540k x 512 matrix\n",
    "rows = []\n",
    "bs = 128\n",
    "batched_ids = []\n",
    "num_bs = len(uniid2fact)//bs\n",
    "for j in tqdm(range(num_bs)):\n",
    "    batched_ids = list(range(j*bs, j*bs+bs))\n",
    "    text_input = clip.tokenize([uniid2fact[i] for i in batched_ids], truncate=True).to(device)\n",
    "    with torch.no_grad():\n",
    "        text_features = model.encode_text(text_input)\n",
    "    rows.append(text_features)\n",
    "if not len(uniid2fact) % bs == 0:\n",
    "    batched_ids = list(range(num_bs*bs, len(uniid2fact)))\n",
    "    text_input = clip.tokenize([uniid2fact[i] for i in batched_ids], truncate=True).to(device)\n",
    "    with torch.no_grad():\n",
    "        text_features = model.encode_text(text_input)\n",
    "    rows.append(text_features)\n",
    "\n",
    "T540Kx512 = torch.cat(rows)\n",
    "print(T540Kx512.size())\n",
    "torch.save(T540Kx512, os.path.join(data_dir, \"CLIP_retrieval_experiments/T540Kx512.pt\"))"
   ],
   "outputs": [
    {
     "output_type": "stream",
     "name": "stderr",
     "text": [
      "  5%|▌         | 231/4253 [00:25<07:19,  9.16it/s]\n"
     ]
    },
    {
     "output_type": "error",
     "ename": "KeyboardInterrupt",
     "evalue": "",
     "traceback": [
      "\u001b[0;31m---------------------------------------------------------------------------\u001b[0m",
      "\u001b[0;31mKeyboardInterrupt\u001b[0m                         Traceback (most recent call last)",
      "\u001b[0;32m<ipython-input-12-53a0d76b5244>\u001b[0m in \u001b[0;36m<module>\u001b[0;34m\u001b[0m\n\u001b[1;32m      6\u001b[0m \u001b[0;32mfor\u001b[0m \u001b[0mj\u001b[0m \u001b[0;32min\u001b[0m \u001b[0mtqdm\u001b[0m\u001b[0;34m(\u001b[0m\u001b[0mrange\u001b[0m\u001b[0;34m(\u001b[0m\u001b[0mnum_bs\u001b[0m\u001b[0;34m)\u001b[0m\u001b[0;34m)\u001b[0m\u001b[0;34m:\u001b[0m\u001b[0;34m\u001b[0m\u001b[0;34m\u001b[0m\u001b[0m\n\u001b[1;32m      7\u001b[0m     \u001b[0mbatched_ids\u001b[0m \u001b[0;34m=\u001b[0m \u001b[0mlist\u001b[0m\u001b[0;34m(\u001b[0m\u001b[0mrange\u001b[0m\u001b[0;34m(\u001b[0m\u001b[0mj\u001b[0m\u001b[0;34m*\u001b[0m\u001b[0mbs\u001b[0m\u001b[0;34m,\u001b[0m \u001b[0mj\u001b[0m\u001b[0;34m*\u001b[0m\u001b[0mbs\u001b[0m\u001b[0;34m+\u001b[0m\u001b[0mbs\u001b[0m\u001b[0;34m)\u001b[0m\u001b[0;34m)\u001b[0m\u001b[0;34m\u001b[0m\u001b[0;34m\u001b[0m\u001b[0m\n\u001b[0;32m----> 8\u001b[0;31m     \u001b[0mtext_input\u001b[0m \u001b[0;34m=\u001b[0m \u001b[0mclip\u001b[0m\u001b[0;34m.\u001b[0m\u001b[0mtokenize\u001b[0m\u001b[0;34m(\u001b[0m\u001b[0;34m[\u001b[0m\u001b[0muniid2fact\u001b[0m\u001b[0;34m[\u001b[0m\u001b[0mi\u001b[0m\u001b[0;34m]\u001b[0m \u001b[0;32mfor\u001b[0m \u001b[0mi\u001b[0m \u001b[0;32min\u001b[0m \u001b[0mbatched_ids\u001b[0m\u001b[0;34m]\u001b[0m\u001b[0;34m,\u001b[0m \u001b[0mtruncate\u001b[0m\u001b[0;34m=\u001b[0m\u001b[0;32mTrue\u001b[0m\u001b[0;34m)\u001b[0m\u001b[0;34m.\u001b[0m\u001b[0mto\u001b[0m\u001b[0;34m(\u001b[0m\u001b[0mdevice\u001b[0m\u001b[0;34m)\u001b[0m\u001b[0;34m\u001b[0m\u001b[0;34m\u001b[0m\u001b[0m\n\u001b[0m\u001b[1;32m      9\u001b[0m     \u001b[0;32mwith\u001b[0m \u001b[0mtorch\u001b[0m\u001b[0;34m.\u001b[0m\u001b[0mno_grad\u001b[0m\u001b[0;34m(\u001b[0m\u001b[0;34m)\u001b[0m\u001b[0;34m:\u001b[0m\u001b[0;34m\u001b[0m\u001b[0;34m\u001b[0m\u001b[0m\n\u001b[1;32m     10\u001b[0m         \u001b[0mtext_features\u001b[0m \u001b[0;34m=\u001b[0m \u001b[0mmodel\u001b[0m\u001b[0;34m.\u001b[0m\u001b[0mencode_text\u001b[0m\u001b[0;34m(\u001b[0m\u001b[0mtext_input\u001b[0m\u001b[0;34m)\u001b[0m\u001b[0;34m\u001b[0m\u001b[0;34m\u001b[0m\u001b[0m\n",
      "\u001b[0;32m~/miniconda3/envs/clip/lib/python3.7/site-packages/clip/clip.py\u001b[0m in \u001b[0;36mtokenize\u001b[0;34m(texts, context_length, truncate)\u001b[0m\n\u001b[1;32m    214\u001b[0m     \u001b[0msot_token\u001b[0m \u001b[0;34m=\u001b[0m \u001b[0m_tokenizer\u001b[0m\u001b[0;34m.\u001b[0m\u001b[0mencoder\u001b[0m\u001b[0;34m[\u001b[0m\u001b[0;34m\"<|startoftext|>\"\u001b[0m\u001b[0;34m]\u001b[0m\u001b[0;34m\u001b[0m\u001b[0;34m\u001b[0m\u001b[0m\n\u001b[1;32m    215\u001b[0m     \u001b[0meot_token\u001b[0m \u001b[0;34m=\u001b[0m \u001b[0m_tokenizer\u001b[0m\u001b[0;34m.\u001b[0m\u001b[0mencoder\u001b[0m\u001b[0;34m[\u001b[0m\u001b[0;34m\"<|endoftext|>\"\u001b[0m\u001b[0;34m]\u001b[0m\u001b[0;34m\u001b[0m\u001b[0;34m\u001b[0m\u001b[0m\n\u001b[0;32m--> 216\u001b[0;31m     \u001b[0mall_tokens\u001b[0m \u001b[0;34m=\u001b[0m \u001b[0;34m[\u001b[0m\u001b[0;34m[\u001b[0m\u001b[0msot_token\u001b[0m\u001b[0;34m]\u001b[0m \u001b[0;34m+\u001b[0m \u001b[0m_tokenizer\u001b[0m\u001b[0;34m.\u001b[0m\u001b[0mencode\u001b[0m\u001b[0;34m(\u001b[0m\u001b[0mtext\u001b[0m\u001b[0;34m)\u001b[0m \u001b[0;34m+\u001b[0m \u001b[0;34m[\u001b[0m\u001b[0meot_token\u001b[0m\u001b[0;34m]\u001b[0m \u001b[0;32mfor\u001b[0m \u001b[0mtext\u001b[0m \u001b[0;32min\u001b[0m \u001b[0mtexts\u001b[0m\u001b[0;34m]\u001b[0m\u001b[0;34m\u001b[0m\u001b[0;34m\u001b[0m\u001b[0m\n\u001b[0m\u001b[1;32m    217\u001b[0m     \u001b[0mresult\u001b[0m \u001b[0;34m=\u001b[0m \u001b[0mtorch\u001b[0m\u001b[0;34m.\u001b[0m\u001b[0mzeros\u001b[0m\u001b[0;34m(\u001b[0m\u001b[0mlen\u001b[0m\u001b[0;34m(\u001b[0m\u001b[0mall_tokens\u001b[0m\u001b[0;34m)\u001b[0m\u001b[0;34m,\u001b[0m \u001b[0mcontext_length\u001b[0m\u001b[0;34m,\u001b[0m \u001b[0mdtype\u001b[0m\u001b[0;34m=\u001b[0m\u001b[0mtorch\u001b[0m\u001b[0;34m.\u001b[0m\u001b[0mlong\u001b[0m\u001b[0;34m)\u001b[0m\u001b[0;34m\u001b[0m\u001b[0;34m\u001b[0m\u001b[0m\n\u001b[1;32m    218\u001b[0m \u001b[0;34m\u001b[0m\u001b[0m\n",
      "\u001b[0;32m~/miniconda3/envs/clip/lib/python3.7/site-packages/clip/clip.py\u001b[0m in \u001b[0;36m<listcomp>\u001b[0;34m(.0)\u001b[0m\n\u001b[1;32m    214\u001b[0m     \u001b[0msot_token\u001b[0m \u001b[0;34m=\u001b[0m \u001b[0m_tokenizer\u001b[0m\u001b[0;34m.\u001b[0m\u001b[0mencoder\u001b[0m\u001b[0;34m[\u001b[0m\u001b[0;34m\"<|startoftext|>\"\u001b[0m\u001b[0;34m]\u001b[0m\u001b[0;34m\u001b[0m\u001b[0;34m\u001b[0m\u001b[0m\n\u001b[1;32m    215\u001b[0m     \u001b[0meot_token\u001b[0m \u001b[0;34m=\u001b[0m \u001b[0m_tokenizer\u001b[0m\u001b[0;34m.\u001b[0m\u001b[0mencoder\u001b[0m\u001b[0;34m[\u001b[0m\u001b[0;34m\"<|endoftext|>\"\u001b[0m\u001b[0;34m]\u001b[0m\u001b[0;34m\u001b[0m\u001b[0;34m\u001b[0m\u001b[0m\n\u001b[0;32m--> 216\u001b[0;31m     \u001b[0mall_tokens\u001b[0m \u001b[0;34m=\u001b[0m \u001b[0;34m[\u001b[0m\u001b[0;34m[\u001b[0m\u001b[0msot_token\u001b[0m\u001b[0;34m]\u001b[0m \u001b[0;34m+\u001b[0m \u001b[0m_tokenizer\u001b[0m\u001b[0;34m.\u001b[0m\u001b[0mencode\u001b[0m\u001b[0;34m(\u001b[0m\u001b[0mtext\u001b[0m\u001b[0;34m)\u001b[0m \u001b[0;34m+\u001b[0m \u001b[0;34m[\u001b[0m\u001b[0meot_token\u001b[0m\u001b[0;34m]\u001b[0m \u001b[0;32mfor\u001b[0m \u001b[0mtext\u001b[0m \u001b[0;32min\u001b[0m \u001b[0mtexts\u001b[0m\u001b[0;34m]\u001b[0m\u001b[0;34m\u001b[0m\u001b[0;34m\u001b[0m\u001b[0m\n\u001b[0m\u001b[1;32m    217\u001b[0m     \u001b[0mresult\u001b[0m \u001b[0;34m=\u001b[0m \u001b[0mtorch\u001b[0m\u001b[0;34m.\u001b[0m\u001b[0mzeros\u001b[0m\u001b[0;34m(\u001b[0m\u001b[0mlen\u001b[0m\u001b[0;34m(\u001b[0m\u001b[0mall_tokens\u001b[0m\u001b[0;34m)\u001b[0m\u001b[0;34m,\u001b[0m \u001b[0mcontext_length\u001b[0m\u001b[0;34m,\u001b[0m \u001b[0mdtype\u001b[0m\u001b[0;34m=\u001b[0m\u001b[0mtorch\u001b[0m\u001b[0;34m.\u001b[0m\u001b[0mlong\u001b[0m\u001b[0;34m)\u001b[0m\u001b[0;34m\u001b[0m\u001b[0;34m\u001b[0m\u001b[0m\n\u001b[1;32m    218\u001b[0m \u001b[0;34m\u001b[0m\u001b[0m\n",
      "\u001b[0;32m~/miniconda3/envs/clip/lib/python3.7/site-packages/clip/simple_tokenizer.py\u001b[0m in \u001b[0;36mencode\u001b[0;34m(self, text)\u001b[0m\n\u001b[1;32m    123\u001b[0m         \u001b[0mtext\u001b[0m \u001b[0;34m=\u001b[0m \u001b[0mwhitespace_clean\u001b[0m\u001b[0;34m(\u001b[0m\u001b[0mbasic_clean\u001b[0m\u001b[0;34m(\u001b[0m\u001b[0mtext\u001b[0m\u001b[0;34m)\u001b[0m\u001b[0;34m)\u001b[0m\u001b[0;34m.\u001b[0m\u001b[0mlower\u001b[0m\u001b[0;34m(\u001b[0m\u001b[0;34m)\u001b[0m\u001b[0;34m\u001b[0m\u001b[0;34m\u001b[0m\u001b[0m\n\u001b[1;32m    124\u001b[0m         \u001b[0;32mfor\u001b[0m \u001b[0mtoken\u001b[0m \u001b[0;32min\u001b[0m \u001b[0mre\u001b[0m\u001b[0;34m.\u001b[0m\u001b[0mfindall\u001b[0m\u001b[0;34m(\u001b[0m\u001b[0mself\u001b[0m\u001b[0;34m.\u001b[0m\u001b[0mpat\u001b[0m\u001b[0;34m,\u001b[0m \u001b[0mtext\u001b[0m\u001b[0;34m)\u001b[0m\u001b[0;34m:\u001b[0m\u001b[0;34m\u001b[0m\u001b[0;34m\u001b[0m\u001b[0m\n\u001b[0;32m--> 125\u001b[0;31m             \u001b[0mtoken\u001b[0m \u001b[0;34m=\u001b[0m \u001b[0;34m''\u001b[0m\u001b[0;34m.\u001b[0m\u001b[0mjoin\u001b[0m\u001b[0;34m(\u001b[0m\u001b[0mself\u001b[0m\u001b[0;34m.\u001b[0m\u001b[0mbyte_encoder\u001b[0m\u001b[0;34m[\u001b[0m\u001b[0mb\u001b[0m\u001b[0;34m]\u001b[0m \u001b[0;32mfor\u001b[0m \u001b[0mb\u001b[0m \u001b[0;32min\u001b[0m \u001b[0mtoken\u001b[0m\u001b[0;34m.\u001b[0m\u001b[0mencode\u001b[0m\u001b[0;34m(\u001b[0m\u001b[0;34m'utf-8'\u001b[0m\u001b[0;34m)\u001b[0m\u001b[0;34m)\u001b[0m\u001b[0;34m\u001b[0m\u001b[0;34m\u001b[0m\u001b[0m\n\u001b[0m\u001b[1;32m    126\u001b[0m             \u001b[0mbpe_tokens\u001b[0m\u001b[0;34m.\u001b[0m\u001b[0mextend\u001b[0m\u001b[0;34m(\u001b[0m\u001b[0mself\u001b[0m\u001b[0;34m.\u001b[0m\u001b[0mencoder\u001b[0m\u001b[0;34m[\u001b[0m\u001b[0mbpe_token\u001b[0m\u001b[0;34m]\u001b[0m \u001b[0;32mfor\u001b[0m \u001b[0mbpe_token\u001b[0m \u001b[0;32min\u001b[0m \u001b[0mself\u001b[0m\u001b[0;34m.\u001b[0m\u001b[0mbpe\u001b[0m\u001b[0;34m(\u001b[0m\u001b[0mtoken\u001b[0m\u001b[0;34m)\u001b[0m\u001b[0;34m.\u001b[0m\u001b[0msplit\u001b[0m\u001b[0;34m(\u001b[0m\u001b[0;34m' '\u001b[0m\u001b[0;34m)\u001b[0m\u001b[0;34m)\u001b[0m\u001b[0;34m\u001b[0m\u001b[0;34m\u001b[0m\u001b[0m\n\u001b[1;32m    127\u001b[0m         \u001b[0;32mreturn\u001b[0m \u001b[0mbpe_tokens\u001b[0m\u001b[0;34m\u001b[0m\u001b[0;34m\u001b[0m\u001b[0m\n",
      "\u001b[0;31mKeyboardInterrupt\u001b[0m: "
     ]
    }
   ],
   "metadata": {}
  },
  {
   "cell_type": "code",
   "execution_count": 5,
   "source": [
    "with open(\"/data/yingshac/WebQA/base64_0904/imgs.lineidx\", \"r\") as fp_img:\n",
    "    img_lineidx = [int(i.strip()) for i in fp_img.readlines()]\n",
    "    print(len(img_lineidx))"
   ],
   "outputs": [
    {
     "output_type": "stream",
     "name": "stdout",
     "text": [
      "389750\n"
     ]
    }
   ],
   "metadata": {}
  },
  {
   "cell_type": "code",
   "execution_count": 6,
   "source": [
    "def get_image_input(i):\n",
    "    with open(\"/data/yingshac/WebQA/base64_0904/imgs.tsv\", \"r\") as fp_img:\n",
    "        fp_img.seek(img_lineidx[i])\n",
    "        imgid, img_base64 = fp_img.readline().strip().split('\\t')\n",
    "    image = Image.open(BytesIO(base64.b64decode(img_base64)))\n",
    "    image_input = preprocess(image)\n",
    "    return image_input\n"
   ],
   "outputs": [],
   "metadata": {}
  },
  {
   "cell_type": "code",
   "execution_count": null,
   "source": [
    "### Generate 390k x 512 matrix\n",
    "rows = []\n",
    "bs = 512\n",
    "num_bs = 389750//bs\n",
    "for j in tqdm(range(111,num_bs)):\n",
    "    batched_ids = list(range(j*bs, j*bs+bs))\n",
    "    image_input = torch.tensor(np.stack([get_image_input(i) for i in batched_ids])).to(device)\n",
    "    with torch.no_grad():\n",
    "        image_features = model.encode_image(image_input)\n",
    "    rows.append(image_features)\n",
    "if not 389750 % bs == 0:\n",
    "    batched_ids = list(range(num_bs*bs, 389750))\n",
    "    image_input = torch.tensor(np.stack([get_image_input(i) for i in batched_ids])).to(device)\n",
    "    with torch.no_grad():\n",
    "        image_features = model.encode_image(image_input)\n",
    "    rows.append(image_features)\n",
    "\n",
    "I390Kx512 = torch.cat(rows)\n",
    "print(I390Kx512.size())\n",
    "torch.save(I390Kx512, os.path.join(large_matrices_dir, \"I390Kx512.pt\"))"
   ],
   "outputs": [],
   "metadata": {}
  },
  {
   "cell_type": "markdown",
   "source": [
    "## Matrix Multiplication"
   ],
   "metadata": {}
  },
  {
   "cell_type": "code",
   "execution_count": 6,
   "source": [
    "split = 'test'"
   ],
   "outputs": [],
   "metadata": {}
  },
  {
   "cell_type": "code",
   "execution_count": 8,
   "source": [
    "### Load CLIP encodings for 390K images, 540K snippets and 5K val/test Queries\n",
    "I390Kx512 = torch.load(os.path.join(large_matrices_dir, \"I390Kx512.pt\"))\n",
    "T540Kx512 = torch.load(os.path.join(large_matrices_dir, \"T540Kx512.pt\"))\n",
    "Qtxtx512 = torch.load(os.path.join(large_matrices_dir, \"Qtxtx512_{}.pt\".format(split)))\n",
    "Qimgx512 = torch.load(os.path.join(large_matrices_dir, \"Qimgx512_{}.pt\".format(split)))\n",
    "\n",
    "print(I390Kx512.size(), T540Kx512.size())\n",
    "print(Qimgx512.size(), Qtxtx512.size())"
   ],
   "outputs": [
    {
     "output_type": "stream",
     "name": "stdout",
     "text": [
      "torch.Size([389750, 512]) torch.Size([544489, 512])\n",
      "torch.Size([3464, 512]) torch.Size([4076, 512])\n"
     ]
    }
   ],
   "metadata": {}
  },
  {
   "cell_type": "code",
   "execution_count": 9,
   "source": [
    "### Normalize encodings\n",
    "I390Kx512 = I390Kx512 / I390Kx512.norm(dim=1)[:, None]\n",
    "T540Kx512 = T540Kx512 / T540Kx512.norm(dim=1)[:, None]\n",
    "Qtxtx512 = Qtxtx512 / Qtxtx512.norm(dim=1)[:, None]\n",
    "Qimgx512 = Qimgx512 / Qimgx512.norm(dim=1)[:, None]"
   ],
   "outputs": [],
   "metadata": {}
  },
  {
   "cell_type": "code",
   "execution_count": 10,
   "source": [
    "### Compute 2.5K x 540K\n",
    "torch.cuda.synchronize()\n",
    "%time Qtxtx540K = torch.matmul(Qtxtx512.to(\"cuda\"), T540Kx512.to(\"cuda\").t()); torch.cuda.synchronize()\n",
    "print(Qtxtx540K.size())\n",
    "torch.save(Qtxtx540K.cpu(), os.path.join(large_matrices_dir, \"Qtxtx540K_{}.pt\".format(split)))\n",
    "\n",
    "torch.cuda.synchronize()\n",
    "%time Qtxtx540K_top2000_i = torch.topk(Qtxtx540K, 2000).indices.cpu(); torch.cuda.synchronize()\n",
    "%time Qtxtx540K_top2000_v = torch.topk(Qtxtx540K, 2000).values.cpu(); torch.cuda.synchronize()\n",
    "\n",
    "print(Qtxtx540K_top2000_i.size(), Qtxtx540K_top2000_v.size())\n",
    "torch.save(Qtxtx540K_top2000_i, os.path.join(large_matrices_dir, \"Qtxtx540K_{}_top2000_i.pt\".format(split)))\n",
    "torch.save(Qtxtx540K_top2000_v, os.path.join(large_matrices_dir, \"Qtxtx540K_{}_top2000_v.pt\".format(split)))\n",
    "\n",
    "# ------------------------- #\n",
    "torch.cuda.synchronize()\n",
    "%time Qimgx540K = torch.matmul(Qimgx512.to(\"cuda\"), T540Kx512.to(\"cuda\").t()); torch.cuda.synchronize()\n",
    "print(Qimgx540K.size())\n",
    "torch.save(Qimgx540K.cpu(), os.path.join(large_matrices_dir, \"Qimgx540K_{}.pt\".format(split)))\n",
    "\n",
    "torch.cuda.synchronize()\n",
    "%time Qimgx540K_top2000_i = torch.topk(Qimgx540K, 2000).indices.cpu(); torch.cuda.synchronize()\n",
    "%time Qimgx540K_top2000_v = torch.topk(Qimgx540K, 2000).values.cpu(); torch.cuda.synchronize()\n",
    "\n",
    "print(Qimgx540K_top2000_i.size(), Qimgx540K_top2000_v.size())\n",
    "torch.save(Qimgx540K_top2000_i, os.path.join(large_matrices_dir, \"Qimgx540K_{}_top2000_i.pt\".format(split)))\n",
    "torch.save(Qimgx540K_top2000_v, os.path.join(large_matrices_dir, \"Qimgx540K_{}_top2000_v.pt\".format(split)))"
   ],
   "outputs": [
    {
     "output_type": "stream",
     "name": "stdout",
     "text": [
      "CPU times: user 128 ms, sys: 7.9 ms, total: 136 ms\n",
      "Wall time: 136 ms\n",
      "torch.Size([4076, 544489])\n",
      "CPU times: user 324 ms, sys: 35.4 ms, total: 360 ms\n",
      "Wall time: 362 ms\n",
      "CPU times: user 340 ms, sys: 0 ns, total: 340 ms\n",
      "Wall time: 340 ms\n",
      "torch.Size([4076, 2000]) torch.Size([4076, 2000])\n",
      "CPU times: user 124 ms, sys: 3.8 ms, total: 128 ms\n",
      "Wall time: 131 ms\n",
      "torch.Size([3464, 544489])\n",
      "CPU times: user 235 ms, sys: 31.7 ms, total: 267 ms\n",
      "Wall time: 267 ms\n",
      "CPU times: user 263 ms, sys: 0 ns, total: 263 ms\n",
      "Wall time: 262 ms\n",
      "torch.Size([3464, 2000]) torch.Size([3464, 2000])\n"
     ]
    }
   ],
   "metadata": {}
  },
  {
   "cell_type": "code",
   "execution_count": 11,
   "source": [
    "### Compute 2.5K x 390K\n",
    "torch.cuda.synchronize()\n",
    "%time Qtxtx390K = torch.matmul(Qtxtx512.to(\"cuda\"), I390Kx512.to(\"cuda\").t()); torch.cuda.synchronize()\n",
    "print(Qtxtx390K.size())\n",
    "torch.save(Qtxtx390K.cpu(), os.path.join(large_matrices_dir, \"Qtxtx390K_{}.pt\".format(split)))\n",
    "\n",
    "torch.cuda.synchronize()\n",
    "%time Qtxtx390K_top2000_i = torch.topk(Qtxtx390K, 2000).indices.cpu(); torch.cuda.synchronize()\n",
    "%time Qtxtx390K_top2000_v = torch.topk(Qtxtx390K, 2000).values.cpu(); torch.cuda.synchronize()\n",
    "\n",
    "print(Qtxtx390K_top2000_i.size(), Qtxtx390K_top2000_v.size())\n",
    "torch.save(Qtxtx390K_top2000_i, os.path.join(large_matrices_dir, \"Qtxtx390K_{}_top2000_i.pt\".format(split)))\n",
    "torch.save(Qtxtx390K_top2000_v, os.path.join(large_matrices_dir, \"Qtxtx390K_{}_top2000_v.pt\".format(split)))\n",
    "\n",
    "# ------------------------- #\n",
    "torch.cuda.synchronize()\n",
    "%time Qimgx390K = torch.matmul(Qimgx512.to(\"cuda\"), I390Kx512.to(\"cuda\").t()); torch.cuda.synchronize()\n",
    "print(Qimgx390K.size())\n",
    "torch.save(Qimgx390K.cpu(), os.path.join(large_matrices_dir, \"Qimgx390K_{}.pt\".format(split)))\n",
    "\n",
    "torch.cuda.synchronize()\n",
    "%time Qimgx390K_top2000_i = torch.topk(Qimgx390K, 2000).indices.cpu(); torch.cuda.synchronize()\n",
    "%time Qimgx390K_top2000_v = torch.topk(Qimgx390K, 2000).values.cpu(); torch.cuda.synchronize()\n",
    "\n",
    "print(Qimgx390K_top2000_i.size(), Qimgx390K_top2000_v.size())\n",
    "torch.save(Qimgx390K_top2000_i, os.path.join(large_matrices_dir, \"Qimgx390K_{}_top2000_i.pt\".format(split)))\n",
    "torch.save(Qimgx390K_top2000_v, os.path.join(large_matrices_dir, \"Qimgx390K_{}_top2000_v.pt\".format(split)))"
   ],
   "outputs": [
    {
     "output_type": "stream",
     "name": "stdout",
     "text": [
      "CPU times: user 70.5 ms, sys: 875 µs, total: 71.4 ms\n",
      "Wall time: 72.7 ms\n",
      "torch.Size([4076, 389750])\n",
      "CPU times: user 248 ms, sys: 36 ms, total: 284 ms\n",
      "Wall time: 285 ms\n",
      "CPU times: user 193 ms, sys: 271 µs, total: 194 ms\n",
      "Wall time: 194 ms\n",
      "torch.Size([4076, 2000]) torch.Size([4076, 2000])\n",
      "CPU times: user 27.8 ms, sys: 3.87 ms, total: 31.7 ms\n",
      "Wall time: 31.9 ms\n",
      "torch.Size([3464, 389750])\n",
      "CPU times: user 122 ms, sys: 24.7 ms, total: 146 ms\n",
      "Wall time: 146 ms\n",
      "CPU times: user 113 ms, sys: 0 ns, total: 113 ms\n",
      "Wall time: 113 ms\n",
      "torch.Size([3464, 2000]) torch.Size([3464, 2000])\n"
     ]
    }
   ],
   "metadata": {}
  },
  {
   "cell_type": "code",
   "execution_count": 9,
   "source": [
    "## Load top2000 indices and values\n",
    "Qimgx390K_top2000_i = torch.load(os.path.join(large_matrices_dir, \"Qimgx390K_{}_top2000_i.pt\".format(split)))\n",
    "Qimgx390K_top2000_v = torch.load(os.path.join(large_matrices_dir, \"Qimgx390K_{}_top2000_v.pt\".format(split)))\n",
    "Qimgx540K_top2000_i = torch.load(os.path.join(large_matrices_dir, \"Qimgx540K_{}_top2000_i.pt\".format(split)))\n",
    "Qimgx540K_top2000_v = torch.load(os.path.join(large_matrices_dir, \"Qimgx540K_{}_top2000_v.pt\".format(split)))\n",
    "Qtxtx390K_top2000_i = torch.load(os.path.join(large_matrices_dir, \"Qtxtx390K_{}_top2000_i.pt\".format(split)))\n",
    "Qtxtx390K_top2000_v = torch.load(os.path.join(large_matrices_dir, \"Qtxtx390K_{}_top2000_v.pt\".format(split)))\n",
    "Qtxtx540K_top2000_i = torch.load(os.path.join(large_matrices_dir, \"Qtxtx540K_{}_top2000_i.pt\".format(split)))\n",
    "Qtxtx540K_top2000_v = torch.load(os.path.join(large_matrices_dir, \"Qtxtx540K_{}_top2000_v.pt\".format(split)))\n"
   ],
   "outputs": [],
   "metadata": {}
  },
  {
   "cell_type": "code",
   "execution_count": 40,
   "source": [
    "j = random.choice(list(range(2511+2455)))\n",
    "if j >= 2511:\n",
    "    print(\"This is a text query\")\n",
    "    y1 = Qtxtx390K_top100_v[j-2511]\n",
    "    y2 = Qtxtx540K_top100_v[j-2511]\n",
    "else:\n",
    "    print(\"This is an img query\")\n",
    "    y1 = Qimgx390K_top100_v[j]\n",
    "    y2 = Qimgx540K_top100_v[j]\n",
    "\n",
    "x = list(range(100)) \n",
    "plt.scatter(x, y1, c =\"gold\", label=\"similarities with img sources\")\n",
    "plt.scatter(x, y2, c =\"lightskyblue\", label=\"similarities with text sources\")\n",
    "plt.legend()\n",
    "plt.show()"
   ],
   "outputs": [
    {
     "output_type": "stream",
     "name": "stdout",
     "text": [
      "This is a text query\n"
     ]
    },
    {
     "output_type": "display_data",
     "data": {
      "image/png": "[encoded data removed]",
      "text/plain": [
       "<Figure size 432x288 with 1 Axes>"
      ]
     },
     "metadata": {
      "needs_background": "light"
     }
    }
   ],
   "metadata": {}
  },
  {
   "cell_type": "code",
   "execution_count": 41,
   "source": [
    "avg_sim_w_img = torch.cat([torch.mean(Qimgx390K_top100_v, 1), torch.mean(Qtxtx390K_top100_v, 1)]).cpu()\n",
    "print(avg_sim_w_img.size())\n",
    "avg_sim_w_txt = torch.cat([torch.mean(Qimgx540K_top100_v, 1), torch.mean(Qtxtx540K_top100_v, 1)]).cpu()\n",
    "print(avg_sim_w_txt.size())\n"
   ],
   "outputs": [
    {
     "output_type": "stream",
     "name": "stdout",
     "text": [
      "torch.Size([4966])\n",
      "torch.Size([4966])\n"
     ]
    }
   ],
   "metadata": {}
  },
  {
   "cell_type": "code",
   "execution_count": 43,
   "source": [
    "fig = plt.figure(figsize=(8, 5))\n",
    "plt.hist(list(avg_sim_w_txt), bins=50, color='lightskyblue')\n",
    "plt.hist(list(avg_sim_w_img), bins=50, color='gold')\n",
    "plt.show()"
   ],
   "outputs": [
    {
     "output_type": "display_data",
     "data": {
      "image/png": "[encoded data removed]",
      "text/plain": [
       "<Figure size 576x360 with 1 Axes>"
      ]
     },
     "metadata": {
      "needs_background": "light"
     }
    }
   ],
   "metadata": {}
  },
  {
   "cell_type": "code",
   "execution_count": 5,
   "source": [
    "avg_sim_Qimg_w_img = torch.mean(Qimgx390K_top2000_v, 1).cpu()\n",
    "avg_sim_Qtxt_w_img = torch.mean(Qtxtx390K_top2000_v, 1).cpu()\n",
    "print(avg_sim_Qimg_w_img.size(), avg_sim_Qtxt_w_img.size())\n",
    "avg_sim_Qimg_w_txt = torch.mean(Qimgx540K_top2000_v, 1).cpu()\n",
    "avg_sim_Qtxt_w_txt = torch.mean(Qtxtx540K_top2000_v, 1).cpu()\n",
    "print(avg_sim_Qimg_w_txt.size(), avg_sim_Qtxt_w_txt.size())\n",
    "\n",
    "fig = plt.figure(figsize=(8, 5))\n",
    "plt.hist(list(avg_sim_Qtxt_w_txt), bins=50, alpha = 0.5, color='lightskyblue')\n",
    "plt.hist(list(avg_sim_Qimg_w_txt), bins=50, alpha = 0.5, color='powderblue')\n",
    "plt.hist(list(avg_sim_Qimg_w_img), bins=50, alpha = 0.5, color='orange')\n",
    "plt.hist(list(avg_sim_Qtxt_w_img), bins=50, alpha = 0.5, color='khaki')\n",
    "\n",
    "plt.show()"
   ],
   "outputs": [
    {
     "output_type": "stream",
     "name": "stdout",
     "text": [
      "torch.Size([2511]) torch.Size([2455])\n",
      "torch.Size([2511]) torch.Size([2455])\n"
     ]
    },
    {
     "output_type": "display_data",
     "data": {
      "image/png": "[encoded data removed]",
      "text/plain": [
       "<Figure size 576x360 with 1 Axes>"
      ]
     },
     "metadata": {
      "needs_background": "light"
     }
    }
   ],
   "metadata": {}
  },
  {
   "cell_type": "code",
   "execution_count": 6,
   "source": [
    "fig = plt.figure(figsize=(8, 8))\n",
    "plt.plot([0, 1], [0, 1], '-')\n",
    "plt.scatter(list(avg_sim_Qtxt_w_txt), list(avg_sim_Qtxt_w_img), c =\"lightgreen\", label=\"Txt queries\", alpha=0.3, s=5)\n",
    "plt.scatter(list(avg_sim_Qimg_w_txt), list(avg_sim_Qimg_w_img), c =\"pink\", label=\"Img queries\", alpha=0.3, s=5)\n",
    "plt.legend()\n",
    "plt.ylim(0.1, 0.5)\n",
    "plt.xlim(0.2, 1)\n",
    "plt.show()"
   ],
   "outputs": [
    {
     "output_type": "display_data",
     "data": {
      "image/png": "[encoded data removed]",
      "text/plain": [
       "<Figure size 576x576 with 1 Axes>"
      ]
     },
     "metadata": {
      "needs_background": "light"
     }
    }
   ],
   "metadata": {}
  },
  {
   "cell_type": "markdown",
   "source": [
    "## Recall @[2, 10, 20, 50, 100], assuming answer modality is known"
   ],
   "metadata": {}
  },
  {
   "cell_type": "code",
   "execution_count": 8,
   "source": [
    "def recall(candidate_list, ans_list):\n",
    "    # Arguments are sets of integers\n",
    "    intersection = ans_list.intersection(candidate_list)\n",
    "    return len(intersection)/len(ans_list)\n",
    "        "
   ],
   "outputs": [],
   "metadata": {}
  },
  {
   "cell_type": "code",
   "execution_count": 9,
   "source": [
    "def compute_retrieval_metrics(pred, gth):\n",
    "\n",
    "    common = len(set(pred).intersection(gth))\n",
    "    RE = common / (len(gth)) \n",
    "    PR = common / (len(pred)) # No protection against division by zero because it's assumed that CLIP never gives empty output\n",
    "    F1 = 2*PR*RE / (PR + RE + 1e-5)\n",
    "    return F1, RE, PR"
   ],
   "outputs": [],
   "metadata": {}
  },
  {
   "cell_type": "code",
   "execution_count": 10,
   "source": [
    "### Load val/test Retrieval_answers\n",
    "imgRetrievalAns = pickle.load(open(os.path.join(data_dir, \"CLIP_retrieval_experiments/{}_imgRetrievalAns.pkl\".format(split)), \"rb\"))\n",
    "txtRetrievalAns = pickle.load(open(os.path.join(data_dir, \"CLIP_retrieval_experiments/{}_txtRetrievalAns.pkl\".format(split)), \"rb\"))"
   ],
   "outputs": [],
   "metadata": {}
  },
  {
   "cell_type": "code",
   "execution_count": 11,
   "source": [
    "K = [2, 10, 20, 50, 100, 200, 500, 1000, 2000]\n",
    "Qimg_scores = defaultdict(float)\n",
    "Qtxt_scores = defaultdict(float)\n",
    "for k in K:\n",
    "    Qimg_scores[k] = np.mean([recall(set(Qimgx390K_top2000_i[i][:k].numpy()), set(imgRetrievalAns[i])) for i in range(len(imgRetrievalAns))])\n",
    "    Qtxt_scores[k] = np.mean([recall(set(Qtxtx540K_top2000_i[i][:k].numpy()), set(txtRetrievalAns[i])) for i in range(len(txtRetrievalAns))])\n",
    "print(\"Recall@k img queries:\")\n",
    "pprint(Qimg_scores)\n",
    "print(\"Recall@k txt queries:\")\n",
    "pprint(Qtxt_scores)"
   ],
   "outputs": [
    {
     "output_type": "stream",
     "name": "stdout",
     "text": [
      "Recall@k img queries:\n",
      "defaultdict(<class 'float'>,\n",
      "            {2: 0.12947459584295612,\n",
      "             10: 0.30153002309468824,\n",
      "             20: 0.3895785219399538,\n",
      "             50: 0.5225173210161663,\n",
      "             100: 0.6251443418013857,\n",
      "             200: 0.7126154734411085,\n",
      "             500: 0.8091801385681293,\n",
      "             1000: 0.8670612009237876,\n",
      "             2000: 0.913539260969977})\n",
      "Recall@k txt queries:\n",
      "defaultdict(<class 'float'>,\n",
      "            {2: 0.1392500817795224,\n",
      "             10: 0.2610606804056264,\n",
      "             20: 0.3154440628066732,\n",
      "             50: 0.38442508995747465,\n",
      "             100: 0.4362528622832843,\n",
      "             200: 0.4878148511612692,\n",
      "             500: 0.5573683349689238,\n",
      "             1000: 0.6023470722930979,\n",
      "             2000: 0.6440137389597644})\n"
     ]
    }
   ],
   "metadata": {}
  },
  {
   "cell_type": "code",
   "execution_count": 12,
   "source": [
    "K = [2, 10, 20, 50, 100, 200, 500, 1000, 2000]\n",
    "Qimg_scores = defaultdict(float)\n",
    "Qtxt_scores = defaultdict(float)\n",
    "for k in K:\n",
    "    Qimg_scores[k] = np.mean([compute_retrieval_metrics(set(Qimgx390K_top2000_i[i][:k].numpy()), set(imgRetrievalAns[i]))[1] for i in range(len(imgRetrievalAns))])\n",
    "    Qtxt_scores[k] = np.mean([compute_retrieval_metrics(set(Qtxtx540K_top2000_i[i][:k].numpy()), set(txtRetrievalAns[i]))[1] for i in range(len(txtRetrievalAns))])\n",
    "print(\"Recall@k img queries:\")\n",
    "top2_perf = [compute_retrieval_metrics(set(Qimgx390K_top2000_i[i][:2].numpy()), set(imgRetrievalAns[i])) for i in range(len(imgRetrievalAns))]\n",
    "pprint(Qimg_scores)\n",
    "print(\"Top2: F1={:.4f}, RE={:.4f}, PR={:.4f}\".format(np.mean([P[0] for P in top2_perf]), np.mean([P[1] for P in top2_perf]), np.mean([P[2] for P in top2_perf]) ))\n",
    "\n",
    "print(\"Recall@k txt queries:\")\n",
    "top2_perf = [compute_retrieval_metrics(set(Qtxtx540K_top2000_i[i][:2].numpy()), set(txtRetrievalAns[i])) for i in range(len(txtRetrievalAns))]\n",
    "\n",
    "pprint(Qtxt_scores)\n",
    "print(\"Top2: F1={:.4f}, RE={:.4f}, PR={:.4f}\".format(np.mean([P[0] for P in top2_perf]), np.mean([P[1] for P in top2_perf]), np.mean([P[2] for P in top2_perf]) ))\n"
   ],
   "outputs": [
    {
     "output_type": "stream",
     "name": "stdout",
     "text": [
      "Recall@k img queries:\n",
      "defaultdict(<class 'float'>,\n",
      "            {2: 0.12947459584295612,\n",
      "             10: 0.30153002309468824,\n",
      "             20: 0.3895785219399538,\n",
      "             50: 0.5225173210161663,\n",
      "             100: 0.6251443418013857,\n",
      "             200: 0.7126154734411085,\n",
      "             500: 0.8091801385681293,\n",
      "             1000: 0.8670612009237876,\n",
      "             2000: 0.913539260969977})\n",
      "Top2: F1=0.0971, RE=0.1295, PR=0.0810\n",
      "Recall@k txt queries:\n",
      "defaultdict(<class 'float'>,\n",
      "            {2: 0.1392500817795224,\n",
      "             10: 0.2610606804056264,\n",
      "             20: 0.3154440628066732,\n",
      "             50: 0.38442508995747465,\n",
      "             100: 0.4362528622832843,\n",
      "             200: 0.4878148511612692,\n",
      "             500: 0.5573683349689238,\n",
      "             1000: 0.6023470722930979,\n",
      "             2000: 0.6440137389597644})\n",
      "Top2: F1=0.1396, RE=0.1393, PR=0.1403\n"
     ]
    }
   ],
   "metadata": {}
  },
  {
   "cell_type": "code",
   "execution_count": 24,
   "source": [
    "fig = plt.figure(figsize=(6, 4))\n",
    "plt.plot(list(Qimg_scores.keys()), list(Qimg_scores.values()), '-', marker='.', color='salmon', label='Img queries', linewidth=2)\n",
    "plt.plot(list(Qtxt_scores.keys()), list(Qtxt_scores.values()), '-', marker='.', color='green', label='Txt queries', linewidth=2)\n",
    "\n",
    "plt.legend(fontsize=14)\n",
    "plt.ylim(0, 1)\n",
    "plt.ylabel('Recall@k', fontsize=14)\n",
    "plt.xscale('log')\n",
    "plt.xlabel('k', fontsize=14)\n",
    "plt.savefig(\"CLIP_recall_curve.jpg\", dpi=250)\n",
    "plt.show()"
   ],
   "outputs": [
    {
     "output_type": "display_data",
     "data": {
      "image/png": "[encoded data removed]",
      "text/plain": [
       "<Figure size 432x288 with 1 Axes>"
      ]
     },
     "metadata": {
      "needs_background": "light"
     }
    }
   ],
   "metadata": {}
  },
  {
   "cell_type": "code",
   "execution_count": null,
   "source": [
    "fluency_avg = 0.4695\n",
    "acc_avg = 0.4533\n",
    "mul_avg = 0.2479"
   ],
   "outputs": [],
   "metadata": {}
  },
  {
   "cell_type": "markdown",
   "source": [
    "## Write to pred_dataset_val CLIP top2 as positive and the remaining top20 as negative"
   ],
   "metadata": {}
  },
  {
   "cell_type": "code",
   "execution_count": 7,
   "source": [
    "### Create imgid2caption \n",
    "imgid2caption = {}\n",
    "for k in tqdm(list(dataset.keys())):\n",
    "    if dataset[k]['Qcate'] == 'text':\n",
    "        for im in dataset[k]['img_negFacts']:\n",
    "            imgid2caption[im['image_id']] = im['caption']\n",
    "    else:\n",
    "        for im in dataset[k]['img_posFacts']:\n",
    "            imgid2caption[im['image_id']] = im['caption']\n",
    "        for im in dataset[k]['img_negFacts']:\n",
    "            imgid2caption[im['image_id']] = im['caption']\n",
    "        \n",
    "print(len(imgid2caption))\n",
    "pickle.dump(imgid2caption, open(os.path.join(data_dir, \"imgid2caption.pkl\"), \"wb\"))"
   ],
   "outputs": [
    {
     "output_type": "stream",
     "name": "stderr",
     "text": [
      "100%|██████████| 49272/49272 [00:00<00:00, 109211.42it/s]\n"
     ]
    },
    {
     "output_type": "stream",
     "name": "stdout",
     "text": [
      "389750\n"
     ]
    }
   ],
   "metadata": {}
  },
  {
   "cell_type": "code",
   "execution_count": 35,
   "source": [
    "### load imgid2caption and image_id_map_0904\n",
    "imgid2caption = pickle.load(open(os.path.join(data_dir, \"imgid2caption.pkl\"), \"rb\"))\n",
    "image_id_map_0904 = pickle.load(open(os.path.join(data_dir, \"image_id_map_0904.pkl\"), \"rb\"))\n",
    "r_image_id_map_0904 = {newid:oldid for oldid, newid in image_id_map_0904.items()}\n",
    "print(len(imgid2caption), len(image_id_map_0904))"
   ],
   "outputs": [
    {
     "output_type": "stream",
     "name": "stdout",
     "text": [
      "389750 389750\n"
     ]
    }
   ],
   "metadata": {}
  },
  {
   "cell_type": "code",
   "execution_count": 25,
   "source": [
    "### Write dataset with CLIP retrieval results for val (top2 in the posFacts field, the remaining top20 in the negFacts field)\n",
    "pred_data = {}\n",
    "for g in dataset:\n",
    "    if dataset[g]['split'] == 'val' and not dataset[g]['Qcate'] == 'text':\n",
    "        pred_data[g] = copy.deepcopy(dataset[g])\n",
    "        top20_clip_image_ids = Qimgx390K_top2000_i[val_imgguid2qid[g]][:20].numpy().tolist()\n",
    "        pred_data[g]['img_posFacts'] = []\n",
    "        for i in top20_clip_image_ids[:2]:\n",
    "            pred_data[g]['img_posFacts'].append({\n",
    "                'image_id': r_image_id_map_0904[i+30000000], \n",
    "                'caption': imgid2caption[i+30000000]})\n",
    "        pred_data[g]['img_negFacts'] = []\n",
    "        for i in top20_clip_image_ids[2:]:\n",
    "            pred_data[g]['img_negFacts'].append({\n",
    "                'image_id': r_image_id_map_0904[i+30000000], \n",
    "                'caption': imgid2caption[i+30000000]})\n",
    "        \n",
    "        top20_clip_text_ids = Qimgx540K_top2000_i[val_imgguid2qid[g]][:20].numpy().tolist()\n",
    "        pred_data[g]['txt_negFacts'] = []\n",
    "        for i in top20_clip_text_ids:\n",
    "            pred_data[g]['txt_negFacts'].append({\n",
    "                'fact': uniid2fact[i]})\n",
    "print(len(pred_data))\n",
    "json.dump(pred_data, open(os.path.join(data_dir, \"CLIP_retrieval_experiments/Qimg_clip_retrieval_val.json\"), \"w\"))\n"
   ],
   "outputs": [
    {
     "output_type": "stream",
     "name": "stdout",
     "text": [
      "2511\n"
     ]
    }
   ],
   "metadata": {}
  },
  {
   "cell_type": "code",
   "execution_count": 16,
   "source": [
    "### Write dataset with CLIP retrieval results for test (top2 in the posFacts field, the remaining top20 in the negFacts field)\n",
    "# pred_data for Qimg\n",
    "pred_data = {}\n",
    "for g in dataset:\n",
    "    if dataset[g]['split'] == 'test' and not dataset[g]['Qcate'] == 'text':\n",
    "        pred_data[g] = copy.deepcopy(dataset[g])\n",
    "        top20_clip_image_ids = Qimgx390K_top2000_i[test_imgguid2qid[g]][:20].numpy().tolist()\n",
    "        pred_data[g]['img_posFacts'] = []\n",
    "        for i in top20_clip_image_ids[:2]:\n",
    "            pred_data[g]['img_posFacts'].append({\n",
    "                'image_id': r_image_id_map_0904[i+30000000], \n",
    "                'caption': imgid2caption[i+30000000]})\n",
    "        pred_data[g]['img_negFacts'] = []\n",
    "        for i in top20_clip_image_ids[2:]:\n",
    "            pred_data[g]['img_negFacts'].append({\n",
    "                'image_id': r_image_id_map_0904[i+30000000], \n",
    "                'caption': imgid2caption[i+30000000]})\n",
    "        \n",
    "        top20_clip_text_ids = Qimgx540K_top2000_i[test_imgguid2qid[g]][:20].numpy().tolist()\n",
    "        pred_data[g]['txt_negFacts'] = []\n",
    "        for i in top20_clip_text_ids:\n",
    "            pred_data[g]['txt_negFacts'].append({\n",
    "                'fact': uniid2fact[i]})\n",
    "print(len(pred_data))\n",
    "json.dump(pred_data, open(os.path.join(data_dir, \"CLIP_retrieval_experiments/Qimg_clip_retrieval_test.json\"), \"w\"))\n",
    "\n",
    "# pred_data for Qtxt\n",
    "pred_data = {}\n",
    "for g in dataset:\n",
    "    if dataset[g]['split'] == 'test' and dataset[g]['Qcate'] == 'text':\n",
    "        pred_data[g] = copy.deepcopy(dataset[g])\n",
    "        top20_clip_text_ids = Qtxtx540K_top2000_i[test_txtguid2qid[g]][:20].numpy().tolist()\n",
    "\n",
    "        # For each txt fact I need to add a 'snippet_id' field for the filter infr to run and calculate scores \n",
    "        # Because I need to run VLP filter infr on this predicted dataset for coarse-to-fine filter: CLIP Top20, VLP Top2\n",
    "        # Note that this snippet_id is different from the one in original dataset\n",
    "        pred_data[g]['txt_posFacts'] = []\n",
    "        for i in top20_clip_text_ids[:2]:\n",
    "            pred_data[g]['txt_posFacts'].append({\n",
    "                'fact': uniid2fact[i], \n",
    "                'snippet_id': i})\n",
    "        pred_data[g]['txt_negFacts'] = []\n",
    "        for i in top20_clip_text_ids[2:]:\n",
    "            pred_data[g]['txt_negFacts'].append({\n",
    "                'fact': uniid2fact[i],\n",
    "                'snippet_id': i})\n",
    "        \n",
    "        top20_clip_image_ids = Qtxtx390K_top2000_i[test_txtguid2qid[g]][:20].numpy().tolist()\n",
    "        pred_data[g]['img_negFacts'] = []\n",
    "        for i in top20_clip_image_ids:\n",
    "            pred_data[g]['img_negFacts'].append({\n",
    "                'image_id': r_image_id_map_0904[i+30000000], \n",
    "                'caption': imgid2caption[i+30000000]})\n",
    "print(len(pred_data))\n",
    "json.dump(pred_data, open(os.path.join(data_dir, \"CLIP_retrieval_experiments/Qtxt_clip_retrieval_test.json\"), \"w\"))\n"
   ],
   "outputs": [
    {
     "output_type": "stream",
     "name": "stdout",
     "text": [
      "3464\n",
      "4076\n"
     ]
    }
   ],
   "metadata": {}
  },
  {
   "cell_type": "code",
   "execution_count": 12,
   "source": [
    "## Generate submission files to eval.ai  (CLIP Top2 full-scale retrieval)\n",
    "evalai_submission_CLIPtop2 = {}\n",
    "for g in dataset:\n",
    "    if not dataset[g]['split'] == 'test': continue\n",
    "    if dataset[g]['Qcate'] == 'text':\n",
    "        retrieved_snippet_ids = []\n",
    "        retrieved_facts = []\n",
    "        for x in Qtxtx540K_top2000_i[test_txtguid2qid[g]][:2].tolist():\n",
    "            retrieved_facts.append(uniid2fact[x])\n",
    "        for x in dataset[g]['txt_posFacts']:\n",
    "            if x['fact'] in retrieved_facts:\n",
    "                retrieved_snippet_ids.append(x['snippet_id'])\n",
    "        retrieved_snippet_ids.extend((2-len(retrieved_snippet_ids))*[\"dummy\"])\n",
    "        evalai_submission_CLIPtop2[g] = {'sources': retrieved_snippet_ids, 'answer': \"\"}\n",
    "    else:\n",
    "        evalai_submission_CLIPtop2[g] = \\\n",
    "            {'sources': [ x+30000000 for x in Qimgx390K_top2000_i[test_imgguid2qid[g]][:2].tolist() ], \n",
    "            'answer': \"\"}\n",
    "\n",
    "json.dump(evalai_submission_CLIPtop2, open(\"evalai_submission_CLIPtop2.json\", \"w\"))\n"
   ],
   "outputs": [],
   "metadata": {}
  },
  {
   "cell_type": "markdown",
   "source": [
    "##### Decode commands\n",
    "CUDA_VISIBLE_DEVICES=2 python decode_webqa.py --new_segment_ids --batch_size 32 --answer_provided_by \"img\" --beam_size 5 --split \"test\" --num_workers 4 --output_dir light_output/detectron_both_qa_upd --ckpts_dir /data/yingshac/WebQA/ckpts/detectron_both_qa_upd --no_eval --recover_step 11 --img_dataset_json_path /home/yingshac/CYS/WebQnA/WebQnA_data_new/CLIP_retrieval_experiments/Qimg_clip_retrieval_test.json\n",
    "\n",
    "CUDA_VISIBLE_DEVICES=1 python decode_webqa.py --new_segment_ids --batch_size 32 --answer_provided_by \"txt\" --beam_size 5 --split \"test\" --num_workers 4 --output_dir light_output/detectron_both_qa_upd --ckpts_dir /data/yingshac/WebQA/ckpts/detectron_both_qa_upd --no_eval --recover_step 11 --txt_dataset_json_path /home/yingshac/CYS/WebQnA/WebQnA_data_new/CLIP_retrieval_experiments/Qtxt_clip_retrieval_test.json\n"
   ],
   "metadata": {}
  },
  {
   "cell_type": "markdown",
   "source": [
    "##### VLP filter on CLIP's top20 (assume known answer modality) commands\n",
    "CUDA_VISIBLE_DEVICES=3 python run_webqa.py --new_segment_ids --train_batch_size 20 --split test --answer_provided_by 'img' --task_to_learn 'filter' --num_workers 4 --max_pred 10 --mask_prob 1.0 --learning_rate 3e-5 --gradient_accumulation_steps 1 --save_loss_curve --output_dir light_output/filter_both_x_detectron_upd --ckpts_dir /data/yingshac/WebQA/ckpts/filter_both_x_detectron_upd --recover_step 3 --img_filter_max_choices 20 --img_dataset_json_path /home/yingshac/CYS/WebQnA/WebQnA_data_new/CLIP_retrieval_experiments/Qimg_clip_retrieval_test.json\n",
    "\n",
    "CUDA_VISIBLE_DEVICES=2 python run_webqa.py --new_segment_ids --train_batch_size 20 --split test --answer_provided_by 'txt' --task_to_learn 'filter' --num_workers 4 --max_pred 10 --mask_prob 1.0 --learning_rate 3e-5 --gradient_accumulation_steps 1 --save_loss_curve --output_dir light_output/filter_both_x_detectron_upd --ckpts_dir /data/yingshac/WebQA/ckpts/filter_both_x_detectron_upd --recover_step 3 --txt_filter_max_choices 20 --txt_dataset_json_path /home/yingshac/CYS/WebQnA/WebQnA_data_new/CLIP_retrieval_experiments/Qtxt_clip_retrieval_test.json\n"
   ],
   "metadata": {}
  },
  {
   "cell_type": "code",
   "execution_count": 38,
   "source": [
    "### Write dataset with CLIP retrieval Top20 --> VLP Top2 results for test (top2 in the posFacts field, the remaining top20 in the negFacts field)\n",
    "TH = 0.2\n",
    "# pred_data for Qimg\n",
    "VLP_filter_output = json.load(open(\"/home/yingshac/CYS/WebQnA/VLP/vlp/light_output/filter_both_x_detectron_upd/test_-1_step3_img_20_True_True_Qimg_clip_retrieval_{}.json\".format(split), \"r\"))\n",
    "print(len(VLP_filter_output))\n",
    "VLP_top2_reselection = np.full((len(txtRetrievalAns), 2), -1, dtype=np.int32)\n",
    "for i in range(len(imgRetrievalAns)):\n",
    "    g = test_imgqid2guid[i]\n",
    "    vlp_filter_scores = np.array([float(x) for x in VLP_filter_output[g]['pred_scores']])\n",
    "    top2_idx = np.argsort(vlp_filter_scores)[-2:]\n",
    "    for j in [0, 1]:\n",
    "        if j==1 or vlp_filter_scores[top2_idx[j]] >= TH:\n",
    "            VLP_top2_reselection[i][j] = image_id_map_0904[VLP_filter_output[g]['choices'][top2_idx[j]]] - 30000000\n",
    "\n",
    "# Score: VLP_top2_reselection vs. retrievalAns\n",
    "top2_perf = [compute_retrieval_metrics(set(VLP_top2_reselection[i]), set(imgRetrievalAns[i])) for i in range(len(imgRetrievalAns))]\n",
    "print(\"VLP reselected top2 from CLIP's top20, image queries: F1={:.4f}, RE={:.4f}, PR={:.4f}\".format(np.mean([P[0] for P in top2_perf]), np.mean([P[1] for P in top2_perf]), np.mean([P[2] for P in top2_perf]) ))\n",
    "\n",
    "# Write dataset (only contain predicted top2 sources in the posFacts field, assuming known answer modality)\n",
    "pred_data = {}\n",
    "for g in dataset:\n",
    "    if dataset[g]['split'] == 'test' and not dataset[g]['Qcate'] == 'text':\n",
    "        pred_data[g] = copy.deepcopy(dataset[g])\n",
    "        top20_clip_image_ids = VLP_top2_reselection[test_imgguid2qid[g]].tolist()\n",
    "        pred_data[g]['img_posFacts'] = []\n",
    "        for i in top20_clip_image_ids:\n",
    "            if i < 0: continue\n",
    "            pred_data[g]['img_posFacts'].append({\n",
    "                'image_id': r_image_id_map_0904[i+30000000], \n",
    "                'caption': imgid2caption[i+30000000]})\n",
    "        pred_data[g]['img_negFacts'] = []\n",
    "        pred_data[g]['txt_negFacts'] = []\n",
    "print(len(pred_data))\n",
    "json.dump(pred_data, open(os.path.join(data_dir, \"CLIP_retrieval_experiments/Qimg_clipvlp_top2_test.json\"), \"w\"))\n",
    "\n",
    "### ------------------------------------------------------------------------------ ###\n",
    "# pred_data for Qtxt\n",
    "VLP_filter_output = json.load(open(\"/home/yingshac/CYS/WebQnA/VLP/vlp/light_output/filter_both_x_detectron_upd/test_-1_step3_txt_20_True_Qtxt_clip_retrieval_{}.json\".format(split), \"r\"))\n",
    "print(len(VLP_filter_output))\n",
    "VLP_top2_reselection = np.full((len(txtRetrievalAns), 2), -1, dtype=np.int32)\n",
    "for i in range(len(txtRetrievalAns)):\n",
    "    g = test_txtqid2guid[i]\n",
    "    vlp_filter_scores = np.array([float(x) for x in VLP_filter_output[g]['pred_scores']])\n",
    "    top2_idx = np.argsort(vlp_filter_scores)[-2:]\n",
    "    for j in [0, 1]:\n",
    "        if j==1 or vlp_filter_scores[top2_idx[j]] >= TH:\n",
    "            VLP_top2_reselection[i][j] = VLP_filter_output[g]['choices'][top2_idx[j]]\n",
    "\n",
    "# Score: VLP_top2_reselection vs. retrievalAns\n",
    "top2_perf = [compute_retrieval_metrics(set(VLP_top2_reselection[i]), set(txtRetrievalAns[i])) for i in range(len(txtRetrievalAns))]\n",
    "print(\"VLP reselected top2 from CLIP's top20, text queries: F1={:.4f}, RE={:.4f}, PR={:.4f}\".format(np.mean([P[0] for P in top2_perf]), np.mean([P[1] for P in top2_perf]), np.mean([P[2] for P in top2_perf]) ))\n",
    "\n",
    "# Write dataset (only contain predicted top2 sources in the posFacts field, assuming known answer modality)\n",
    "pred_data = {}\n",
    "for g in dataset:\n",
    "    if dataset[g]['split'] == 'test' and dataset[g]['Qcate'] == 'text':\n",
    "        pred_data[g] = copy.deepcopy(dataset[g])\n",
    "        top2_clipvlp_text_ids = VLP_top2_reselection[test_txtguid2qid[g]].tolist()\n",
    "\n",
    "        pred_data[g]['txt_posFacts'] = []\n",
    "        for i in top2_clipvlp_text_ids:\n",
    "            if i < 0: continue\n",
    "            pred_data[g]['txt_posFacts'].append({\n",
    "                'fact': uniid2fact[i]})\n",
    "        pred_data[g]['txt_negFacts'] = []\n",
    "        pred_data[g]['img_negFacts'] = []\n",
    "print(len(pred_data))\n",
    "json.dump(pred_data, open(os.path.join(data_dir, \"CLIP_retrieval_experiments/Qtxt_clipvlp_top2_test.json\"), \"w\"))"
   ],
   "outputs": [
    {
     "output_type": "stream",
     "name": "stdout",
     "text": [
      "3464\n",
      "VLP reselected top2 from CLIP's top20, image queries: F1=0.2168, RE=0.2823, PR=0.1840\n",
      "3464\n",
      "4076\n",
      "VLP reselected top2 from CLIP's top20, text queries: F1=0.2601, RE=0.2593, PR=0.2615\n",
      "4076\n"
     ]
    }
   ],
   "metadata": {}
  },
  {
   "cell_type": "markdown",
   "source": [
    "##### Decode commands on pred_datasets with coarse-to-fine retrieval (CLIP top20 --> VLP top2)\n",
    "\n",
    "CUDA_VISIBLE_DEVICES=2 python decode_webqa.py --new_segment_ids --batch_size 32 --answer_provided_by \"img\" --beam_size 5 --split \"test\" --num_workers 4 --output_dir light_output/detectron_both_qa_upd --ckpts_dir /data/yingshac/WebQA/ckpts/detectron_both_qa_upd --no_eval --recover_step 11 --img_dataset_json_path /home/yingshac/CYS/WebQnA/WebQnA_data_new/CLIP_retrieval_experiments/Qimg_clipvlp_top2_test.json\n",
    "\n",
    "CUDA_VISIBLE_DEVICES=1 python decode_webqa.py --new_segment_ids --batch_size 32 --answer_provided_by \"txt\" --beam_size 5 --split \"test\" --num_workers 4 --output_dir light_output/detectron_both_qa_upd --ckpts_dir /data/yingshac/WebQA/ckpts/detectron_both_qa_upd --no_eval --recover_step 11 --txt_dataset_json_path /home/yingshac/CYS/WebQnA/WebQnA_data_new/CLIP_retrieval_experiments/Qtxt_clipvlp_top2_test.json\n"
   ],
   "metadata": {}
  },
  {
   "cell_type": "code",
   "execution_count": 10,
   "source": [
    "x = np.array([2043, 5703, 2817, 2050, 2168, 5734, 2793, 2037])\n",
    "y = np.array([2815, 1483, 2071, 961, 2601, 1796, 2658, 1254])\n",
    "(x * 3464 + y * 4076) / (3464+4076)\n"
   ],
   "outputs": [
    {
     "output_type": "execute_result",
     "data": {
      "text/plain": [
       "array([2460.3305, 3421.7374, 2413.7247, 1461.3045, 2402.0727, 3605.182 ,\n",
       "       2720.0212, 1613.7231])"
      ]
     },
     "metadata": {},
     "execution_count": 10
    }
   ],
   "metadata": {}
  },
  {
   "cell_type": "code",
   "execution_count": null,
   "source": [],
   "outputs": [],
   "metadata": {}
  }
 ],
 "metadata": {
  "orig_nbformat": 4,
  "language_info": {
   "name": "python",
   "version": "3.7.12",
   "mimetype": "text/x-python",
   "codemirror_mode": {
    "name": "ipython",
    "version": 3
   },
   "pygments_lexer": "ipython3",
   "nbconvert_exporter": "python",
   "file_extension": ".py"
  },
  "kernelspec": {
   "name": "python3",
   "display_name": "Python 3.7.12 64-bit ('clip': conda)"
  },
  "interpreter": {
   "hash": "917030d6eae98a766c5c79d240337cc8ef458871f38a77f2b1b4929558492b4c"
  }
 },
 "nbformat": 4,
 "nbformat_minor": 2
}