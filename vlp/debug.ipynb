{
 "cells": [
  {
   "cell_type": "code",
   "execution_count": 1,
   "source": [
    "import json, pickle, os, random\n",
    "from collections import Counter, defaultdict\n",
    "import numpy as np\n",
    "from pprint import pprint\n",
    "import torch"
   ],
   "outputs": [],
   "metadata": {}
  },
  {
   "cell_type": "code",
   "execution_count": 3,
   "source": [
    "data_dir = \"/home/yingshac/CYS/WebQnA/WebQnA_data_new\""
   ],
   "outputs": [],
   "metadata": {}
  },
  {
   "cell_type": "code",
   "execution_count": 4,
   "source": [
    "image_id_map_0328 = pickle.load(open(os.path.join(data_dir, \"image_id_map_0328.pkl\"), \"rb\"))\n",
    "image_id_map_0904 = pickle.load(open(os.path.join(data_dir, \"image_id_map_0904.pkl\"), \"rb\"))\n",
    "\n",
    "print(len(image_id_map_0904), len(image_id_map_0328))"
   ],
   "outputs": [
    {
     "output_type": "stream",
     "name": "stdout",
     "text": [
      "389750 389750\n"
     ]
    }
   ],
   "metadata": {}
  },
  {
   "cell_type": "code",
   "execution_count": 16,
   "source": [
    "image_id_map_v0tov4 = {}\n",
    "for v0 in image_id_map_0904:\n",
    "    image_id_map_v0tov4[int(v0)] = image_id_map_0328[image_id_map_0904[v0]]\n",
    "print(len(image_id_map_v0tov4))\n",
    "pickle.dump(image_id_map_v0tov4, open(os.path.join(data_dir, \"image_id_map_v0tov4.pkl\"), \"wb\"))"
   ],
   "outputs": [
    {
     "output_type": "stream",
     "name": "stdout",
     "text": [
      "389750\n"
     ]
    }
   ],
   "metadata": {}
  },
  {
   "cell_type": "code",
   "execution_count": 2,
   "source": [
    "a = torch.zeros((2, 8, 6)).cuda()\n",
    "b = torch.randn((2, 4, 6)).cuda()\n",
    "print(a)\n",
    "print(b)\n",
    "a[[0,1], 1:5] = b\n",
    "print(a)"
   ],
   "outputs": [
    {
     "output_type": "stream",
     "name": "stdout",
     "text": [
      "tensor([[[0., 0., 0., 0., 0., 0.],\n",
      "         [0., 0., 0., 0., 0., 0.],\n",
      "         [0., 0., 0., 0., 0., 0.],\n",
      "         [0., 0., 0., 0., 0., 0.],\n",
      "         [0., 0., 0., 0., 0., 0.],\n",
      "         [0., 0., 0., 0., 0., 0.],\n",
      "         [0., 0., 0., 0., 0., 0.],\n",
      "         [0., 0., 0., 0., 0., 0.]],\n",
      "\n",
      "        [[0., 0., 0., 0., 0., 0.],\n",
      "         [0., 0., 0., 0., 0., 0.],\n",
      "         [0., 0., 0., 0., 0., 0.],\n",
      "         [0., 0., 0., 0., 0., 0.],\n",
      "         [0., 0., 0., 0., 0., 0.],\n",
      "         [0., 0., 0., 0., 0., 0.],\n",
      "         [0., 0., 0., 0., 0., 0.],\n",
      "         [0., 0., 0., 0., 0., 0.]]], device='cuda:0')\n",
      "tensor([[[ 1.8971, -1.1274,  3.2733,  1.3398,  0.6640,  1.2097],\n",
      "         [-0.8001,  0.9390, -0.1535, -0.5523,  0.0067, -0.4780],\n",
      "         [ 0.2855,  0.5960,  0.6344, -0.8259,  1.0846,  1.9415],\n",
      "         [-1.1647,  0.9283, -1.2749, -0.2178, -0.8839,  1.4309]],\n",
      "\n",
      "        [[-1.5912,  1.3996, -0.2299, -0.8920,  0.3508,  1.0674],\n",
      "         [-1.1294, -0.1266, -0.4374,  0.1873, -0.9969, -0.2484],\n",
      "         [ 0.3826,  0.2081, -0.7627, -0.1410, -0.2462,  0.0738],\n",
      "         [ 0.1994, -1.4577, -0.6273,  0.8238,  1.7737,  0.8813]]],\n",
      "       device='cuda:0')\n",
      "tensor([[[ 0.0000,  0.0000,  0.0000,  0.0000,  0.0000,  0.0000],\n",
      "         [ 1.8971, -1.1274,  3.2733,  1.3398,  0.6640,  1.2097],\n",
      "         [-0.8001,  0.9390, -0.1535, -0.5523,  0.0067, -0.4780],\n",
      "         [ 0.2855,  0.5960,  0.6344, -0.8259,  1.0846,  1.9415],\n",
      "         [-1.1647,  0.9283, -1.2749, -0.2178, -0.8839,  1.4309],\n",
      "         [ 0.0000,  0.0000,  0.0000,  0.0000,  0.0000,  0.0000],\n",
      "         [ 0.0000,  0.0000,  0.0000,  0.0000,  0.0000,  0.0000],\n",
      "         [ 0.0000,  0.0000,  0.0000,  0.0000,  0.0000,  0.0000]],\n",
      "\n",
      "        [[ 0.0000,  0.0000,  0.0000,  0.0000,  0.0000,  0.0000],\n",
      "         [-1.5912,  1.3996, -0.2299, -0.8920,  0.3508,  1.0674],\n",
      "         [-1.1294, -0.1266, -0.4374,  0.1873, -0.9969, -0.2484],\n",
      "         [ 0.3826,  0.2081, -0.7627, -0.1410, -0.2462,  0.0738],\n",
      "         [ 0.1994, -1.4577, -0.6273,  0.8238,  1.7737,  0.8813],\n",
      "         [ 0.0000,  0.0000,  0.0000,  0.0000,  0.0000,  0.0000],\n",
      "         [ 0.0000,  0.0000,  0.0000,  0.0000,  0.0000,  0.0000],\n",
      "         [ 0.0000,  0.0000,  0.0000,  0.0000,  0.0000,  0.0000]]],\n",
      "       device='cuda:0')\n"
     ]
    }
   ],
   "metadata": {}
  },
  {
   "cell_type": "code",
   "execution_count": 18,
   "source": [
    "os.path.exists(\"/home/yingshac/CYS/WebQnA/VLP/vlp/light_output/filter_both_x_detectron_upd/pred_dataset_th2_test_-1_step3_txt_20_True_txt_dataset_0904_clean_fields_UNknown_modality.json\")"
   ],
   "outputs": [
    {
     "output_type": "execute_result",
     "data": {
      "text/plain": [
       "True"
      ]
     },
     "metadata": {},
     "execution_count": 18
    }
   ],
   "metadata": {}
  },
  {
   "cell_type": "code",
   "execution_count": 20,
   "source": [
    "import numpy as np\n",
    "x = np.array([5881, 2563, 1894])\n",
    "y = np.array([3214, 4601, 2545])\n",
    "(x * 3464 + y * 4076) / (3464+4076)\n"
   ],
   "outputs": [
    {
     "output_type": "execute_result",
     "data": {
      "text/plain": [
       "array([4439.26366048, 3664.70928382, 2245.9198939 ])"
      ]
     },
     "metadata": {},
     "execution_count": 20
    }
   ],
   "metadata": {}
  },
  {
   "cell_type": "code",
   "execution_count": null,
   "source": [],
   "outputs": [],
   "metadata": {}
  }
 ],
 "metadata": {
  "orig_nbformat": 4,
  "language_info": {
   "name": "python",
   "version": "3.7.9",
   "mimetype": "text/x-python",
   "codemirror_mode": {
    "name": "ipython",
    "version": 3
   },
   "pygments_lexer": "ipython3",
   "nbconvert_exporter": "python",
   "file_extension": ".py"
  },
  "kernelspec": {
   "name": "python3",
   "display_name": "Python 3.7.9 64-bit ('py37': conda)"
  },
  "interpreter": {
   "hash": "8b2d563fa8aa45e213139dcbace4d0a578851a3d0a26d4ba28225d6551be83f5"
  }
 },
 "nbformat": 4,
 "nbformat_minor": 2
}